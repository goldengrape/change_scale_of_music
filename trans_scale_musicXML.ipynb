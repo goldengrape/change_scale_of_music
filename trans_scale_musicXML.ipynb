{
 "cells": [
  {
   "cell_type": "markdown",
   "metadata": {},
   "source": [
    "# 对乐谱进行变换"
   ]
  },
  {
   "cell_type": "code",
   "execution_count": 1,
   "metadata": {},
   "outputs": [],
   "source": [
    "import numpy as np\n",
    "import re "
   ]
  },
  {
   "cell_type": "markdown",
   "metadata": {},
   "source": [
    "## 数字音高与音名的转换"
   ]
  },
  {
   "cell_type": "code",
   "execution_count": 2,
   "metadata": {},
   "outputs": [],
   "source": [
    "note_num={\"C\":0, \"Db\":1, \"D\":2, \"Eb\":3,\"E\":4, \"F\":5, \"Gb\":6,\n",
    "\"G\":7, \"Ab\":8, \"A\":9, \"Bb\":10, \"B\":11,}\n",
    "num_note={v:k for k,v in note_num.items()}"
   ]
  },
  {
   "cell_type": "code",
   "execution_count": 3,
   "metadata": {},
   "outputs": [],
   "source": [
    "# Conversion of digital pitch and sound names\n",
    "\n",
    "def pitch_to_name(pitch, root):\n",
    "    root_num=note_num[root]+60 \n",
    "    pitch_num=pitch-root_num\n",
    "    octave=pitch_num//12+4\n",
    "    pitch_num=pitch_num%12\n",
    "    return num_note[pitch_num], octave\n",
    "\n",
    "def name_to_pitch(name, octave, root):\n",
    "    root_num=note_num[root]+60\n",
    "    pitch_num=note_num[name]+12*(octave-4)\n",
    "    return pitch_num+root_num\n"
   ]
  },
  {
   "cell_type": "markdown",
   "metadata": {},
   "source": [
    "## Scale的重映射\n",
    "\n",
    "对于major/Ionian：\n",
    "\n",
    "* 音高是\n",
    "  * [C,D,E,F,G,A,B]\n",
    "  * [0,2,4,5,7,9,11]\n",
    "   \n",
    "对于minor/Aeolian \n",
    "* 音高是\n",
    "  * [C,D,Eb,F,G,Ab,Bb]\n",
    "  * [0,2,3, 5,7,8,10]\n",
    "\n",
    "重映射时：\n",
    "\n",
    "|原scale|原音高|新scale|新音高|\n",
    "|:--|:--|:--|:--|\n",
    "|E|4|Eb|3|\n",
    "|A|9|Ab|8|\n",
    "|B|11|Bb|10|\n",
    "\n",
    "整体：\n",
    "\n",
    "|序数|0|-|1|-|2|3|-|4|-|5|-|6|\n",
    "|:--|:--|:--|:--|:--|:--|:--|:--|:--|:--|:--|:--|:--|\n",
    "|Ionian|0|1|2|3|4|5|6|7|8|9|10|11|\n",
    "|Aeolian|0|1|2|-|3|5|6|7|-|8|-|10|"
   ]
  },
  {
   "cell_type": "markdown",
   "metadata": {},
   "source": [
    "|序数  | 0|   1|  2|  3|  4|  5|  6|\n",
    "|:--   |:--|:--|:--|:--|:--|:--|:--|\n",
    "|Ionian|        C|  D|  E|  F|  G|  A|  B|\n",
    "|Aeolian|       C|  D| Eb|  F|  G| Ab| Bb|\n",
    "|Dorian|        C|  D| Eb|  F|  G|  A| Bb|\n",
    "|Phrygian|      C| Db| Eb|  F|  G| Ab| Bb|\n",
    "|Lydian|        C|  D|  E| Gb|  G|  A|  B|\n",
    "|Mixolydian|    C|  D|  E|  F|  G|  A| Bb|\n",
    "|Locrian|       C| Db| Eb|  F| Gb| Ab| Bb|"
   ]
  },
  {
   "cell_type": "code",
   "execution_count": 4,
   "metadata": {},
   "outputs": [],
   "source": [
    "Ionian = [\"C\",\"D\",\"E\",\"F\",\"G\",\"A\",\"B\"]\n",
    "Aeolian = [\"C\",\"D\",\"Eb\",\"F\",\"G\",\"Ab\",\"Bb\"]\n",
    "Dorian = [\"C\",\"D\",\"Eb\",\"F\",\"G\",\"A\",\"Bb\"]\n",
    "Phrygian = [\"C\",\"Db\",\"Eb\",\"F\",\"G\",\"Ab\",\"Bb\"]\n",
    "Lydian = [\"C\",\"D\",\"E\",\"Gb\",\"G\",\"A\",\"B\"]\n",
    "Mixolydian = [\"C\",\"D\",\"E\",\"F\",\"G\",\"A\",\"Bb\"]\n",
    "Locrian = [\"C\",\"Db\",\"Eb\",\"F\",\"Gb\",\"Ab\",\"Bb\"]\n",
    "Harmonic_Minor = [\"C\",\"D\",\"Eb\",\"F\",\"G\",\"Ab\",\"B\"]\n",
    "Blues=[\"C\",\"Db\",\"Eb\",\"F\",\"Gb\",\"G\",\"Bb\"]"
   ]
  },
  {
   "cell_type": "code",
   "execution_count": 5,
   "metadata": {},
   "outputs": [],
   "source": [
    "def note_to_index(note, scale):\n",
    "    scale_num = np.asarray([note_num[x] for x in scale])\n",
    "    if note in scale:\n",
    "        return scale.index(note)\n",
    "    else:\n",
    "        x=np.count_nonzero(note_num[note] > np.array(scale_num))-0.5 \n",
    "        return x "
   ]
  },
  {
   "cell_type": "code",
   "execution_count": 6,
   "metadata": {},
   "outputs": [],
   "source": [
    "def trans_scale(note, scale_origin, scale_target):\n",
    "    origin_note_index= note_to_index(note, scale_origin)\n",
    "    if int(origin_note_index) == origin_note_index:\n",
    "        target_note=scale_target[origin_note_index]\n",
    "    else:\n",
    "        # 如果序数不为整数，取上下两个音符的平均值\n",
    "        lower_note_index=int(origin_note_index)\n",
    "        lower_note=scale_target[lower_note_index]\n",
    "        upper_note_index=int(origin_note_index)+1\n",
    "        upper_note=scale_target[upper_note_index]\n",
    "        target_note_num=np.round((note_num[lower_note]+note_num[upper_note])/2)\n",
    "        target_note=num_note[target_note_num]\n",
    "    return target_note"
   ]
  },
  {
   "cell_type": "markdown",
   "metadata": {},
   "source": [
    "## 遍历所有音符\n",
    "\n",
    "```\n",
    "<step>x1</step><octave>y1</octave> -> m\n",
    "m ->变调式 -> n\n",
    "<step>x2</step><octave>y2</octave>\n",
    "```"
   ]
  },
  {
   "cell_type": "code",
   "execution_count": 7,
   "metadata": {},
   "outputs": [],
   "source": [
    "def num_to_step_octave(pitch, root):\n",
    "    name, octave = pitch_to_name(pitch, root)\n",
    "    find_str = f\"<step>{name}</step>[\\s\\n]*<octave>{octave}</octave>\"\n",
    "    return find_str\n",
    "\n",
    "def trans_note_round_A(pitch, xml_str,  \n",
    "                origin_scale, origin_root, \n",
    "                target_scale, target_root):\n",
    "    origin_name, origin_octave = pitch_to_name(pitch, origin_root)\n",
    "    find_str = f\"<step>{origin_name}</step>[\\s\\n]*<octave>{origin_octave}</octave>\"\n",
    "    find_str= re.compile(find_str)\n",
    "    target_name=trans_scale(origin_name,origin_scale, target_scale)\n",
    "    target_pitch=name_to_pitch(target_name,origin_octave,target_root)\n",
    "    tmp_str=f\"<tmp>{target_pitch}</tmp>\"\n",
    "    middle_xml_str=re.sub(find_str, tmp_str, xml_str)\n",
    "    return middle_xml_str\n",
    "\n",
    "def trans_note_round_B(pitch, xml_str,  \n",
    "                origin_scale, origin_root, \n",
    "                target_scale, target_root):\n",
    "    target_name, target_octave= pitch_to_name(pitch, target_root) \n",
    "    tmp_str=re.compile(f\"<tmp>{pitch}</tmp>\")\n",
    "    replace_str= f\"<step>{target_name}</step><octave>{target_octave}</octave>\"\n",
    "    return re.sub(tmp_str, replace_str, xml_str)\n"
   ]
  },
  {
   "cell_type": "code",
   "execution_count": 8,
   "metadata": {},
   "outputs": [],
   "source": [
    "def double_round(xml_str,  \n",
    "                origin_scale, origin_root, \n",
    "                target_scale, target_root):\n",
    "    for p in range(1,127):\n",
    "        middle_str = trans_note_round_A(p, xml_str,  \n",
    "                    origin_scale, origin_root, \n",
    "                    target_scale,target_root)\n",
    "        xml_str=middle_str\n",
    "    for p in range(1,127):\n",
    "        middle_str = trans_note_round_B(p, xml_str,  \n",
    "                    origin_scale, origin_root, \n",
    "                    target_scale,target_root)\n",
    "        xml_str=middle_str\n",
    "    return xml_str\n"
   ]
  },
  {
   "cell_type": "code",
   "execution_count": 9,
   "metadata": {},
   "outputs": [],
   "source": [
    "with open('Canon_in_C.musicxml', 'r') as f:\n",
    "    xml_str = f.read()\n",
    "    new_xml_str=double_round(xml_str,Ionian,\"D\",Aeolian,\"D\")\n",
    "\n",
    "with open('Canon_in_C_new.musicxml', 'w') as f:\n",
    "    f.write(new_xml_str)"
   ]
  },
  {
   "cell_type": "code",
   "execution_count": null,
   "metadata": {},
   "outputs": [],
   "source": []
  }
 ],
 "metadata": {
  "interpreter": {
   "hash": "b037adfa1f67f8bc8d5efd1f8c5a790530fd55ed6b3680c88030c23a5c8b23a2"
  },
  "kernelspec": {
   "display_name": "Python 3.6.13 64-bit ('music': conda)",
   "language": "python",
   "name": "python3"
  },
  "language_info": {
   "codemirror_mode": {
    "name": "ipython",
    "version": 3
   },
   "file_extension": ".py",
   "mimetype": "text/x-python",
   "name": "python",
   "nbconvert_exporter": "python",
   "pygments_lexer": "ipython3",
   "version": "3.6.13"
  },
  "orig_nbformat": 4
 },
 "nbformat": 4,
 "nbformat_minor": 2
}
