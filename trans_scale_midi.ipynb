{
 "cells": [
  {
   "cell_type": "markdown",
   "metadata": {},
   "source": [
    "对音乐的调式scale进行变换"
   ]
  },
  {
   "cell_type": "code",
   "execution_count": 9,
   "metadata": {},
   "outputs": [],
   "source": [
    "import numpy as np\n",
    "from mido import MidiFile\n",
    "import argparse\n"
   ]
  },
  {
   "cell_type": "markdown",
   "metadata": {},
   "source": [
    "## 数字音高与音名的转换"
   ]
  },
  {
   "cell_type": "code",
   "execution_count": 10,
   "metadata": {},
   "outputs": [],
   "source": [
    "note_num={\"C\":0, \"Db\":1, \"D\":2, \"Eb\":3,\"E\":4, \"F\":5, \"Gb\":6,\n",
    "\"G\":7, \"Ab\":8, \"A\":9, \"Bb\":10, \"B\":11,}\n",
    "num_note={v:k for k,v in note_num.items()}"
   ]
  },
  {
   "cell_type": "code",
   "execution_count": 11,
   "metadata": {},
   "outputs": [],
   "source": [
    "# Conversion of digital pitch and sound names\n",
    "\n",
    "def pitch_to_name(pitch, root):\n",
    "    root_num=note_num[root]+60 \n",
    "    pitch_num=pitch-root_num\n",
    "    octave=pitch_num//12+4\n",
    "    pitch_num=pitch_num%12\n",
    "    return num_note[pitch_num], octave\n",
    "\n",
    "def name_to_pitch(name, octave, root):\n",
    "    root_num=note_num[root]+60\n",
    "    pitch_num=note_num[name]+12*(octave-4)\n",
    "    return pitch_num+root_num\n"
   ]
  },
  {
   "cell_type": "markdown",
   "metadata": {},
   "source": [
    "## Scale的重映射\n",
    "\n",
    "对于major/Ionian：\n",
    "\n",
    "* 音高是\n",
    "  * [C,D,E,F,G,A,B]\n",
    "  * [0,2,4,5,7,9,11]\n",
    "   \n",
    "对于minor/Aeolian \n",
    "* 音高是\n",
    "  * [C,D,Eb,F,G,Ab,Bb]\n",
    "  * [0,2,3, 5,7,8,10]\n",
    "\n",
    "重映射时：\n",
    "\n",
    "|原scale|原音高|新scale|新音高|\n",
    "|:--|:--|:--|:--|\n",
    "|E|4|Eb|3|\n",
    "|A|9|Ab|8|\n",
    "|B|11|Bb|10|\n",
    "\n",
    "整体：\n",
    "\n",
    "|序数|0|-|1|-|2|3|-|4|-|5|-|6|\n",
    "|:--|:--|:--|:--|:--|:--|:--|:--|:--|:--|:--|:--|:--|\n",
    "|Ionian|0|1|2|3|4|5|6|7|8|9|10|11|\n",
    "|Aeolian|0|1|2|-|3|5|6|7|-|8|-|10|"
   ]
  },
  {
   "cell_type": "code",
   "execution_count": null,
   "metadata": {},
   "outputs": [],
   "source": []
  },
  {
   "cell_type": "markdown",
   "metadata": {},
   "source": [
    "|序数  | 0|   1|  2|  3|  4|  5|  6|\n",
    "|:--   |:--|:--|:--|:--|:--|:--|:--|\n",
    "|Ionian|        C|  D|  E|  F|  G|  A|  B|\n",
    "|Aeolian|       C|  D| Eb|  F|  G| Ab| Bb|\n",
    "|Dorian|        C|  D| Eb|  F|  G|  A| Bb|\n",
    "|Phrygian|      C| Db| Eb|  F|  G| Ab| Bb|\n",
    "|Lydian|        C|  D|  E| Gb|  G|  A|  B|\n",
    "|Mixolydian|    C|  D|  E|  F|  G|  A| Bb|\n",
    "|Locrian|       C| Db| Eb|  F| Gb| Ab| Bb|"
   ]
  },
  {
   "cell_type": "code",
   "execution_count": 12,
   "metadata": {},
   "outputs": [],
   "source": [
    "def read_scale(scale_file):\n",
    "    with open(scale_file, \"r\") as f:\n",
    "        text=f.read()\n",
    "        text=text.replace(\" \", \"\")\n",
    "        text=text.split(\"\\n\")\n",
    "        text=[t.split(\",\") for t in text]\n",
    "        scale_dict={t[0].upper():t[1:] for t in text}\n",
    "    return scale_dict"
   ]
  },
  {
   "cell_type": "code",
   "execution_count": 13,
   "metadata": {},
   "outputs": [],
   "source": [
    "def note_to_index(note, scale):\n",
    "    scale_num = np.asarray([note_num[x] for x in scale])\n",
    "    if note in scale:\n",
    "        return scale.index(note)\n",
    "    else:\n",
    "        x=np.count_nonzero(note_num[note] > np.array(scale_num))-0.5 \n",
    "        return x "
   ]
  },
  {
   "cell_type": "code",
   "execution_count": 14,
   "metadata": {},
   "outputs": [],
   "source": [
    "def trans_scale(note, scale_origin, scale_target):\n",
    "    origin_note_index= note_to_index(note, scale_origin)\n",
    "    if int(origin_note_index) == origin_note_index:\n",
    "        target_note=scale_target[origin_note_index]\n",
    "    else:\n",
    "        # 如果序数不为整数，取上下两个音符的平均值\n",
    "        lower_note_index=int(origin_note_index)\n",
    "        if lower_note_index < len(scale_target)-1:\n",
    "            upper_note_index=lower_note_index+1\n",
    "            lower_note=scale_target[lower_note_index]\n",
    "            upper_note_index=int(origin_note_index)+1\n",
    "            upper_note=scale_target[upper_note_index]\n",
    "            target_note_num=np.round((note_num[lower_note]+note_num[upper_note])/2)\n",
    "            target_note=num_note[target_note_num]\n",
    "        else:\n",
    "            # if over the last note, take the average of last note and B\n",
    "            target_note_num=np.round((note_num[scale_target[-1]]+11)/2)\n",
    "            target_note=num_note[target_note_num]\n",
    "    return target_note"
   ]
  },
  {
   "cell_type": "markdown",
   "metadata": {},
   "source": [
    "# 读取并遍历midi文件"
   ]
  },
  {
   "cell_type": "code",
   "execution_count": 15,
   "metadata": {},
   "outputs": [],
   "source": [
    "def trans_music(input_file, output_file,\n",
    "                scale_file, \n",
    "                origin_scale_name, origin_root, \n",
    "                target_scale_name, target_root):\n",
    "                \n",
    "    scale=read_scale(scale_file)\n",
    "    origin_scale=scale[origin_scale_name.upper()]\n",
    "    target_scale=scale[target_scale_name.upper()]\n",
    "    \n",
    "    mid = MidiFile(input_file, clip=True)\n",
    "    for track in mid.tracks:\n",
    "        for msg in track:\n",
    "            if (msg.type=='note_on'):\n",
    "                origin_name,origin_octave=pitch_to_name(msg.note, origin_root)\n",
    "                target_name=trans_scale(origin_name,origin_scale, target_scale)\n",
    "                target_pitch=name_to_pitch(target_name,origin_octave,target_root)\n",
    "                msg.note=target_pitch\n",
    "    mid.save(output_file)\n",
    "    return True \n",
    "\n",
    "\n"
   ]
  },
  {
   "cell_type": "markdown",
   "metadata": {},
   "source": [
    "## CLI"
   ]
  },
  {
   "cell_type": "code",
   "execution_count": null,
   "metadata": {},
   "outputs": [],
   "source": [
    "\n",
    "def arg_parse():\n",
    "    '''\n",
    "    解析命令行参数\n",
    "    '''\n",
    "    # 创建解析步骤\n",
    "    parser = argparse.ArgumentParser(description='更改midi音乐的调式')\n",
    "\n",
    "    # 添加参数步骤\n",
    "    parser.add_argument('-i','--input',type=str, help='输入的midi文件名' )\n",
    "    parser.add_argument('-o','--output', type=str, default='', help='输出的midi文件名')\n",
    "    parser.add_argument('-s', '--scale', type=str, default=\"scale.csv\", help='调式定义文件')               \n",
    "    parser.add_argument('-is','--input_scale', type=str,help='原曲的调式名称')               \n",
    "    parser.add_argument('-os','--output_scale', type=str,help='输出的调式名称')               \n",
    "    parser.add_argument('-ir','--input_root', type=str,help='原曲的root名称')               \n",
    "    parser.add_argument('-or','--output_root', type=str,help='输出的root名称') \n",
    "\n",
    "    # 解析参数步骤  \n",
    "    args = parser.parse_args()\n",
    "    return(args)"
   ]
  },
  {
   "cell_type": "code",
   "execution_count": 16,
   "metadata": {},
   "outputs": [],
   "source": [
    "# scale_file=\"scale.csv\"\n",
    "# origin_scale_name=\"Ionian\"\n",
    "# origin_root=\"D\"\n",
    "# target_scale_name=\"Lydian\"\n",
    "# target_root=\"D\"\n",
    "\n",
    "# input_file=\"Canon_in_D.mid\"\n",
    "# output_file=\"Canon_in_D_Lydian.mid\"\n",
    "if __name__ == \"__main__\":\n",
    "    args=arg_parse()\n",
    "\n",
    "    scale_file=args.scale\n",
    "    origin_scale_name=args.input_scale\n",
    "    origin_root=args.input_root\n",
    "    target_scale_name=args.output_scale\n",
    "    target_root=args.output_root\n",
    "    input_file=args.input\n",
    "    output_file=args.output\n",
    "\n",
    "    trans_music(input_file,output_file,  \n",
    "                scale_file,\n",
    "                origin_scale_name,origin_root, \n",
    "                target_scale_name, target_root);\n"
   ]
  },
  {
   "cell_type": "code",
   "execution_count": null,
   "metadata": {},
   "outputs": [],
   "source": []
  }
 ],
 "metadata": {
  "interpreter": {
   "hash": "b037adfa1f67f8bc8d5efd1f8c5a790530fd55ed6b3680c88030c23a5c8b23a2"
  },
  "kernelspec": {
   "display_name": "Python 3.10.0 64-bit ('music': conda)",
   "language": "python",
   "name": "python3"
  },
  "language_info": {
   "codemirror_mode": {
    "name": "ipython",
    "version": 3
   },
   "file_extension": ".py",
   "mimetype": "text/x-python",
   "name": "python",
   "nbconvert_exporter": "python",
   "pygments_lexer": "ipython3",
   "version": "3.6.13"
  },
  "orig_nbformat": 4
 },
 "nbformat": 4,
 "nbformat_minor": 2
}
